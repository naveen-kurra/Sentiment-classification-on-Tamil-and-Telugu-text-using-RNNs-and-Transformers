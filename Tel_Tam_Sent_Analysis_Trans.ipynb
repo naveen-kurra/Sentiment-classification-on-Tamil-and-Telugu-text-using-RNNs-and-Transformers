{
  "nbformat": 4,
  "nbformat_minor": 0,
  "metadata": {
    "colab": {
      "name": "Tel-Tam Sent Analysis Trans",
      "provenance": [],
      "collapsed_sections": []
    },
    "kernelspec": {
      "name": "python3",
      "display_name": "Python 3"
    },
    "language_info": {
      "name": "python"
    },
    "accelerator": "GPU",
    "widgets": {
      "application/vnd.jupyter.widget-state+json": {
        "b8939c2a6e3242c0b3a200a542d273c2": {
          "model_module": "@jupyter-widgets/controls",
          "model_name": "HBoxModel",
          "model_module_version": "1.5.0",
          "state": {
            "_view_name": "HBoxView",
            "_dom_classes": [],
            "_model_name": "HBoxModel",
            "_view_module": "@jupyter-widgets/controls",
            "_model_module_version": "1.5.0",
            "_view_count": null,
            "_view_module_version": "1.5.0",
            "box_style": "",
            "layout": "IPY_MODEL_64c6eb88708c46d2affdb134f35d9c91",
            "_model_module": "@jupyter-widgets/controls",
            "children": [
              "IPY_MODEL_d99b57d0496f4c2da746861cd008c0d7",
              "IPY_MODEL_6156547a24ca424c9bf9fcc929d27ba1",
              "IPY_MODEL_6a13ca024d59403d9d83a071fdb87a68"
            ]
          }
        },
        "64c6eb88708c46d2affdb134f35d9c91": {
          "model_module": "@jupyter-widgets/base",
          "model_name": "LayoutModel",
          "model_module_version": "1.2.0",
          "state": {
            "_view_name": "LayoutView",
            "grid_template_rows": null,
            "right": null,
            "justify_content": null,
            "_view_module": "@jupyter-widgets/base",
            "overflow": null,
            "_model_module_version": "1.2.0",
            "_view_count": null,
            "flex_flow": null,
            "width": null,
            "min_width": null,
            "border": null,
            "align_items": null,
            "bottom": null,
            "_model_module": "@jupyter-widgets/base",
            "top": null,
            "grid_column": null,
            "overflow_y": null,
            "overflow_x": null,
            "grid_auto_flow": null,
            "grid_area": null,
            "grid_template_columns": null,
            "flex": null,
            "_model_name": "LayoutModel",
            "justify_items": null,
            "grid_row": null,
            "max_height": null,
            "align_content": null,
            "visibility": null,
            "align_self": null,
            "height": null,
            "min_height": null,
            "padding": null,
            "grid_auto_rows": null,
            "grid_gap": null,
            "max_width": null,
            "order": null,
            "_view_module_version": "1.2.0",
            "grid_template_areas": null,
            "object_position": null,
            "object_fit": null,
            "grid_auto_columns": null,
            "margin": null,
            "display": null,
            "left": null
          }
        },
        "d99b57d0496f4c2da746861cd008c0d7": {
          "model_module": "@jupyter-widgets/controls",
          "model_name": "HTMLModel",
          "model_module_version": "1.5.0",
          "state": {
            "_view_name": "HTMLView",
            "style": "IPY_MODEL_0a75cbad7e1747d4a253f1a449e91905",
            "_dom_classes": [],
            "description": "",
            "_model_name": "HTMLModel",
            "placeholder": "​",
            "_view_module": "@jupyter-widgets/controls",
            "_model_module_version": "1.5.0",
            "value": " 85%",
            "_view_count": null,
            "_view_module_version": "1.5.0",
            "description_tooltip": null,
            "_model_module": "@jupyter-widgets/controls",
            "layout": "IPY_MODEL_ad63514575104441916c135840409389"
          }
        },
        "6156547a24ca424c9bf9fcc929d27ba1": {
          "model_module": "@jupyter-widgets/controls",
          "model_name": "FloatProgressModel",
          "model_module_version": "1.5.0",
          "state": {
            "_view_name": "ProgressView",
            "style": "IPY_MODEL_ee5b889bfe4c4b7eb67b51870f0414d7",
            "_dom_classes": [],
            "description": "",
            "_model_name": "FloatProgressModel",
            "bar_style": "",
            "max": 27,
            "_view_module": "@jupyter-widgets/controls",
            "_model_module_version": "1.5.0",
            "value": 27,
            "_view_count": null,
            "_view_module_version": "1.5.0",
            "orientation": "horizontal",
            "min": 0,
            "description_tooltip": null,
            "_model_module": "@jupyter-widgets/controls",
            "layout": "IPY_MODEL_9ed7122150c84c76a459c9b7ce0e4f91"
          }
        },
        "6a13ca024d59403d9d83a071fdb87a68": {
          "model_module": "@jupyter-widgets/controls",
          "model_name": "HTMLModel",
          "model_module_version": "1.5.0",
          "state": {
            "_view_name": "HTMLView",
            "style": "IPY_MODEL_0a694b1e72b946c087ac184735fed29c",
            "_dom_classes": [],
            "description": "",
            "_model_name": "HTMLModel",
            "placeholder": "​",
            "_view_module": "@jupyter-widgets/controls",
            "_model_module_version": "1.5.0",
            "value": " 23/27 [00:00&lt;00:00, 48.17epoch/s]",
            "_view_count": null,
            "_view_module_version": "1.5.0",
            "description_tooltip": null,
            "_model_module": "@jupyter-widgets/controls",
            "layout": "IPY_MODEL_fe39bff215e942569d0fa1c3ea7f5597"
          }
        },
        "0a75cbad7e1747d4a253f1a449e91905": {
          "model_module": "@jupyter-widgets/controls",
          "model_name": "DescriptionStyleModel",
          "model_module_version": "1.5.0",
          "state": {
            "_view_name": "StyleView",
            "_model_name": "DescriptionStyleModel",
            "description_width": "",
            "_view_module": "@jupyter-widgets/base",
            "_model_module_version": "1.5.0",
            "_view_count": null,
            "_view_module_version": "1.2.0",
            "_model_module": "@jupyter-widgets/controls"
          }
        },
        "ad63514575104441916c135840409389": {
          "model_module": "@jupyter-widgets/base",
          "model_name": "LayoutModel",
          "model_module_version": "1.2.0",
          "state": {
            "_view_name": "LayoutView",
            "grid_template_rows": null,
            "right": null,
            "justify_content": null,
            "_view_module": "@jupyter-widgets/base",
            "overflow": null,
            "_model_module_version": "1.2.0",
            "_view_count": null,
            "flex_flow": null,
            "width": null,
            "min_width": null,
            "border": null,
            "align_items": null,
            "bottom": null,
            "_model_module": "@jupyter-widgets/base",
            "top": null,
            "grid_column": null,
            "overflow_y": null,
            "overflow_x": null,
            "grid_auto_flow": null,
            "grid_area": null,
            "grid_template_columns": null,
            "flex": null,
            "_model_name": "LayoutModel",
            "justify_items": null,
            "grid_row": null,
            "max_height": null,
            "align_content": null,
            "visibility": null,
            "align_self": null,
            "height": null,
            "min_height": null,
            "padding": null,
            "grid_auto_rows": null,
            "grid_gap": null,
            "max_width": null,
            "order": null,
            "_view_module_version": "1.2.0",
            "grid_template_areas": null,
            "object_position": null,
            "object_fit": null,
            "grid_auto_columns": null,
            "margin": null,
            "display": null,
            "left": null
          }
        },
        "ee5b889bfe4c4b7eb67b51870f0414d7": {
          "model_module": "@jupyter-widgets/controls",
          "model_name": "ProgressStyleModel",
          "model_module_version": "1.5.0",
          "state": {
            "_view_name": "StyleView",
            "_model_name": "ProgressStyleModel",
            "description_width": "",
            "_view_module": "@jupyter-widgets/base",
            "_model_module_version": "1.5.0",
            "_view_count": null,
            "_view_module_version": "1.2.0",
            "bar_color": null,
            "_model_module": "@jupyter-widgets/controls"
          }
        },
        "9ed7122150c84c76a459c9b7ce0e4f91": {
          "model_module": "@jupyter-widgets/base",
          "model_name": "LayoutModel",
          "model_module_version": "1.2.0",
          "state": {
            "_view_name": "LayoutView",
            "grid_template_rows": null,
            "right": null,
            "justify_content": null,
            "_view_module": "@jupyter-widgets/base",
            "overflow": null,
            "_model_module_version": "1.2.0",
            "_view_count": null,
            "flex_flow": null,
            "width": null,
            "min_width": null,
            "border": null,
            "align_items": null,
            "bottom": null,
            "_model_module": "@jupyter-widgets/base",
            "top": null,
            "grid_column": null,
            "overflow_y": null,
            "overflow_x": null,
            "grid_auto_flow": null,
            "grid_area": null,
            "grid_template_columns": null,
            "flex": null,
            "_model_name": "LayoutModel",
            "justify_items": null,
            "grid_row": null,
            "max_height": null,
            "align_content": null,
            "visibility": null,
            "align_self": null,
            "height": null,
            "min_height": null,
            "padding": null,
            "grid_auto_rows": null,
            "grid_gap": null,
            "max_width": null,
            "order": null,
            "_view_module_version": "1.2.0",
            "grid_template_areas": null,
            "object_position": null,
            "object_fit": null,
            "grid_auto_columns": null,
            "margin": null,
            "display": null,
            "left": null
          }
        },
        "0a694b1e72b946c087ac184735fed29c": {
          "model_module": "@jupyter-widgets/controls",
          "model_name": "DescriptionStyleModel",
          "model_module_version": "1.5.0",
          "state": {
            "_view_name": "StyleView",
            "_model_name": "DescriptionStyleModel",
            "description_width": "",
            "_view_module": "@jupyter-widgets/base",
            "_model_module_version": "1.5.0",
            "_view_count": null,
            "_view_module_version": "1.2.0",
            "_model_module": "@jupyter-widgets/controls"
          }
        },
        "fe39bff215e942569d0fa1c3ea7f5597": {
          "model_module": "@jupyter-widgets/base",
          "model_name": "LayoutModel",
          "model_module_version": "1.2.0",
          "state": {
            "_view_name": "LayoutView",
            "grid_template_rows": null,
            "right": null,
            "justify_content": null,
            "_view_module": "@jupyter-widgets/base",
            "overflow": null,
            "_model_module_version": "1.2.0",
            "_view_count": null,
            "flex_flow": null,
            "width": null,
            "min_width": null,
            "border": null,
            "align_items": null,
            "bottom": null,
            "_model_module": "@jupyter-widgets/base",
            "top": null,
            "grid_column": null,
            "overflow_y": null,
            "overflow_x": null,
            "grid_auto_flow": null,
            "grid_area": null,
            "grid_template_columns": null,
            "flex": null,
            "_model_name": "LayoutModel",
            "justify_items": null,
            "grid_row": null,
            "max_height": null,
            "align_content": null,
            "visibility": null,
            "align_self": null,
            "height": null,
            "min_height": null,
            "padding": null,
            "grid_auto_rows": null,
            "grid_gap": null,
            "max_width": null,
            "order": null,
            "_view_module_version": "1.2.0",
            "grid_template_areas": null,
            "object_position": null,
            "object_fit": null,
            "grid_auto_columns": null,
            "margin": null,
            "display": null,
            "left": null
          }
        },
        "fb81248a461e4f45ac1e42c911d05f02": {
          "model_module": "@jupyter-widgets/controls",
          "model_name": "HBoxModel",
          "model_module_version": "1.5.0",
          "state": {
            "_view_name": "HBoxView",
            "_dom_classes": [],
            "_model_name": "HBoxModel",
            "_view_module": "@jupyter-widgets/controls",
            "_model_module_version": "1.5.0",
            "_view_count": null,
            "_view_module_version": "1.5.0",
            "box_style": "",
            "layout": "IPY_MODEL_abfee5ff9e9c41c586d798a7c4ed25dc",
            "_model_module": "@jupyter-widgets/controls",
            "children": [
              "IPY_MODEL_1a87d924f9154035ba388dc0440ac7d2",
              "IPY_MODEL_5fa0b4f0a8274f7c898a450309da5e65",
              "IPY_MODEL_a81657ab071a4b04940569b93493e531"
            ]
          }
        },
        "abfee5ff9e9c41c586d798a7c4ed25dc": {
          "model_module": "@jupyter-widgets/base",
          "model_name": "LayoutModel",
          "model_module_version": "1.2.0",
          "state": {
            "_view_name": "LayoutView",
            "grid_template_rows": null,
            "right": null,
            "justify_content": null,
            "_view_module": "@jupyter-widgets/base",
            "overflow": null,
            "_model_module_version": "1.2.0",
            "_view_count": null,
            "flex_flow": null,
            "width": null,
            "min_width": null,
            "border": null,
            "align_items": null,
            "bottom": null,
            "_model_module": "@jupyter-widgets/base",
            "top": null,
            "grid_column": null,
            "overflow_y": null,
            "overflow_x": null,
            "grid_auto_flow": null,
            "grid_area": null,
            "grid_template_columns": null,
            "flex": null,
            "_model_name": "LayoutModel",
            "justify_items": null,
            "grid_row": null,
            "max_height": null,
            "align_content": null,
            "visibility": null,
            "align_self": null,
            "height": null,
            "min_height": null,
            "padding": null,
            "grid_auto_rows": null,
            "grid_gap": null,
            "max_width": null,
            "order": null,
            "_view_module_version": "1.2.0",
            "grid_template_areas": null,
            "object_position": null,
            "object_fit": null,
            "grid_auto_columns": null,
            "margin": null,
            "display": null,
            "left": null
          }
        },
        "1a87d924f9154035ba388dc0440ac7d2": {
          "model_module": "@jupyter-widgets/controls",
          "model_name": "HTMLModel",
          "model_module_version": "1.5.0",
          "state": {
            "_view_name": "HTMLView",
            "style": "IPY_MODEL_092c8d7f40044d62b1158d1d239a8964",
            "_dom_classes": [],
            "description": "",
            "_model_name": "HTMLModel",
            "placeholder": "​",
            "_view_module": "@jupyter-widgets/controls",
            "_model_module_version": "1.5.0",
            "value": " 40%",
            "_view_count": null,
            "_view_module_version": "1.5.0",
            "description_tooltip": null,
            "_model_module": "@jupyter-widgets/controls",
            "layout": "IPY_MODEL_99167a45681a41a09dbc27be665c4040"
          }
        },
        "5fa0b4f0a8274f7c898a450309da5e65": {
          "model_module": "@jupyter-widgets/controls",
          "model_name": "FloatProgressModel",
          "model_module_version": "1.5.0",
          "state": {
            "_view_name": "ProgressView",
            "style": "IPY_MODEL_b4723df4e80a48deb11d505c7c12649f",
            "_dom_classes": [],
            "description": "",
            "_model_name": "FloatProgressModel",
            "bar_style": "",
            "max": 5,
            "_view_module": "@jupyter-widgets/controls",
            "_model_module_version": "1.5.0",
            "value": 5,
            "_view_count": null,
            "_view_module_version": "1.5.0",
            "orientation": "horizontal",
            "min": 0,
            "description_tooltip": null,
            "_model_module": "@jupyter-widgets/controls",
            "layout": "IPY_MODEL_796b605b0f8949ba853f431c5205a847"
          }
        },
        "a81657ab071a4b04940569b93493e531": {
          "model_module": "@jupyter-widgets/controls",
          "model_name": "HTMLModel",
          "model_module_version": "1.5.0",
          "state": {
            "_view_name": "HTMLView",
            "style": "IPY_MODEL_85f8bc93066a40ffb3c8cd440b357d9c",
            "_dom_classes": [],
            "description": "",
            "_model_name": "HTMLModel",
            "placeholder": "​",
            "_view_module": "@jupyter-widgets/controls",
            "_model_module_version": "1.5.0",
            "value": " 2/5 [00:00&lt;00:00, 18.92epoch/s]",
            "_view_count": null,
            "_view_module_version": "1.5.0",
            "description_tooltip": null,
            "_model_module": "@jupyter-widgets/controls",
            "layout": "IPY_MODEL_05f6c47b4ac44cc58691cdd7e4a2ee02"
          }
        },
        "092c8d7f40044d62b1158d1d239a8964": {
          "model_module": "@jupyter-widgets/controls",
          "model_name": "DescriptionStyleModel",
          "model_module_version": "1.5.0",
          "state": {
            "_view_name": "StyleView",
            "_model_name": "DescriptionStyleModel",
            "description_width": "",
            "_view_module": "@jupyter-widgets/base",
            "_model_module_version": "1.5.0",
            "_view_count": null,
            "_view_module_version": "1.2.0",
            "_model_module": "@jupyter-widgets/controls"
          }
        },
        "99167a45681a41a09dbc27be665c4040": {
          "model_module": "@jupyter-widgets/base",
          "model_name": "LayoutModel",
          "model_module_version": "1.2.0",
          "state": {
            "_view_name": "LayoutView",
            "grid_template_rows": null,
            "right": null,
            "justify_content": null,
            "_view_module": "@jupyter-widgets/base",
            "overflow": null,
            "_model_module_version": "1.2.0",
            "_view_count": null,
            "flex_flow": null,
            "width": null,
            "min_width": null,
            "border": null,
            "align_items": null,
            "bottom": null,
            "_model_module": "@jupyter-widgets/base",
            "top": null,
            "grid_column": null,
            "overflow_y": null,
            "overflow_x": null,
            "grid_auto_flow": null,
            "grid_area": null,
            "grid_template_columns": null,
            "flex": null,
            "_model_name": "LayoutModel",
            "justify_items": null,
            "grid_row": null,
            "max_height": null,
            "align_content": null,
            "visibility": null,
            "align_self": null,
            "height": null,
            "min_height": null,
            "padding": null,
            "grid_auto_rows": null,
            "grid_gap": null,
            "max_width": null,
            "order": null,
            "_view_module_version": "1.2.0",
            "grid_template_areas": null,
            "object_position": null,
            "object_fit": null,
            "grid_auto_columns": null,
            "margin": null,
            "display": null,
            "left": null
          }
        },
        "b4723df4e80a48deb11d505c7c12649f": {
          "model_module": "@jupyter-widgets/controls",
          "model_name": "ProgressStyleModel",
          "model_module_version": "1.5.0",
          "state": {
            "_view_name": "StyleView",
            "_model_name": "ProgressStyleModel",
            "description_width": "",
            "_view_module": "@jupyter-widgets/base",
            "_model_module_version": "1.5.0",
            "_view_count": null,
            "_view_module_version": "1.2.0",
            "bar_color": null,
            "_model_module": "@jupyter-widgets/controls"
          }
        },
        "796b605b0f8949ba853f431c5205a847": {
          "model_module": "@jupyter-widgets/base",
          "model_name": "LayoutModel",
          "model_module_version": "1.2.0",
          "state": {
            "_view_name": "LayoutView",
            "grid_template_rows": null,
            "right": null,
            "justify_content": null,
            "_view_module": "@jupyter-widgets/base",
            "overflow": null,
            "_model_module_version": "1.2.0",
            "_view_count": null,
            "flex_flow": null,
            "width": null,
            "min_width": null,
            "border": null,
            "align_items": null,
            "bottom": null,
            "_model_module": "@jupyter-widgets/base",
            "top": null,
            "grid_column": null,
            "overflow_y": null,
            "overflow_x": null,
            "grid_auto_flow": null,
            "grid_area": null,
            "grid_template_columns": null,
            "flex": null,
            "_model_name": "LayoutModel",
            "justify_items": null,
            "grid_row": null,
            "max_height": null,
            "align_content": null,
            "visibility": null,
            "align_self": null,
            "height": null,
            "min_height": null,
            "padding": null,
            "grid_auto_rows": null,
            "grid_gap": null,
            "max_width": null,
            "order": null,
            "_view_module_version": "1.2.0",
            "grid_template_areas": null,
            "object_position": null,
            "object_fit": null,
            "grid_auto_columns": null,
            "margin": null,
            "display": null,
            "left": null
          }
        },
        "85f8bc93066a40ffb3c8cd440b357d9c": {
          "model_module": "@jupyter-widgets/controls",
          "model_name": "DescriptionStyleModel",
          "model_module_version": "1.5.0",
          "state": {
            "_view_name": "StyleView",
            "_model_name": "DescriptionStyleModel",
            "description_width": "",
            "_view_module": "@jupyter-widgets/base",
            "_model_module_version": "1.5.0",
            "_view_count": null,
            "_view_module_version": "1.2.0",
            "_model_module": "@jupyter-widgets/controls"
          }
        },
        "05f6c47b4ac44cc58691cdd7e4a2ee02": {
          "model_module": "@jupyter-widgets/base",
          "model_name": "LayoutModel",
          "model_module_version": "1.2.0",
          "state": {
            "_view_name": "LayoutView",
            "grid_template_rows": null,
            "right": null,
            "justify_content": null,
            "_view_module": "@jupyter-widgets/base",
            "overflow": null,
            "_model_module_version": "1.2.0",
            "_view_count": null,
            "flex_flow": null,
            "width": null,
            "min_width": null,
            "border": null,
            "align_items": null,
            "bottom": null,
            "_model_module": "@jupyter-widgets/base",
            "top": null,
            "grid_column": null,
            "overflow_y": null,
            "overflow_x": null,
            "grid_auto_flow": null,
            "grid_area": null,
            "grid_template_columns": null,
            "flex": null,
            "_model_name": "LayoutModel",
            "justify_items": null,
            "grid_row": null,
            "max_height": null,
            "align_content": null,
            "visibility": null,
            "align_self": null,
            "height": null,
            "min_height": null,
            "padding": null,
            "grid_auto_rows": null,
            "grid_gap": null,
            "max_width": null,
            "order": null,
            "_view_module_version": "1.2.0",
            "grid_template_areas": null,
            "object_position": null,
            "object_fit": null,
            "grid_auto_columns": null,
            "margin": null,
            "display": null,
            "left": null
          }
        }
      }
    }
  },
  "cells": [
    {
      "cell_type": "code",
      "metadata": {
        "colab": {
          "base_uri": "https://localhost:8080/"
        },
        "id": "gBS2r--L_mhD",
        "outputId": "2b8377c6-f527-4f32-9073-b18436a1d20a"
      },
      "source": [
        "pip install indic-nlp-library"
      ],
      "execution_count": null,
      "outputs": [
        {
          "output_type": "stream",
          "name": "stdout",
          "text": [
            "Collecting indic-nlp-library\n",
            "  Downloading indic_nlp_library-0.81-py3-none-any.whl (40 kB)\n",
            "\u001b[?25l\r\u001b[K     |████████▏                       | 10 kB 25.7 MB/s eta 0:00:01\r\u001b[K     |████████████████▍               | 20 kB 27.9 MB/s eta 0:00:01\r\u001b[K     |████████████████████████▌       | 30 kB 15.2 MB/s eta 0:00:01\r\u001b[K     |████████████████████████████████| 40 kB 3.4 MB/s \n",
            "\u001b[?25hRequirement already satisfied: numpy in /usr/local/lib/python3.7/dist-packages (from indic-nlp-library) (1.19.5)\n",
            "Collecting sphinx-rtd-theme\n",
            "  Downloading sphinx_rtd_theme-1.0.0-py2.py3-none-any.whl (2.8 MB)\n",
            "\u001b[K     |████████████████████████████████| 2.8 MB 8.8 MB/s \n",
            "\u001b[?25hCollecting sphinx-argparse\n",
            "  Downloading sphinx_argparse-0.3.1-py2.py3-none-any.whl (12 kB)\n",
            "Requirement already satisfied: pandas in /usr/local/lib/python3.7/dist-packages (from indic-nlp-library) (1.1.5)\n",
            "Collecting morfessor\n",
            "  Downloading Morfessor-2.0.6-py3-none-any.whl (35 kB)\n",
            "Requirement already satisfied: pytz>=2017.2 in /usr/local/lib/python3.7/dist-packages (from pandas->indic-nlp-library) (2018.9)\n",
            "Requirement already satisfied: python-dateutil>=2.7.3 in /usr/local/lib/python3.7/dist-packages (from pandas->indic-nlp-library) (2.8.2)\n",
            "Requirement already satisfied: six>=1.5 in /usr/local/lib/python3.7/dist-packages (from python-dateutil>=2.7.3->pandas->indic-nlp-library) (1.15.0)\n",
            "Requirement already satisfied: sphinx>=1.2.0 in /usr/local/lib/python3.7/dist-packages (from sphinx-argparse->indic-nlp-library) (1.8.6)\n",
            "Requirement already satisfied: requests>=2.0.0 in /usr/local/lib/python3.7/dist-packages (from sphinx>=1.2.0->sphinx-argparse->indic-nlp-library) (2.23.0)\n",
            "Requirement already satisfied: Jinja2>=2.3 in /usr/local/lib/python3.7/dist-packages (from sphinx>=1.2.0->sphinx-argparse->indic-nlp-library) (2.11.3)\n",
            "Requirement already satisfied: snowballstemmer>=1.1 in /usr/local/lib/python3.7/dist-packages (from sphinx>=1.2.0->sphinx-argparse->indic-nlp-library) (2.2.0)\n",
            "Requirement already satisfied: docutils<0.18,>=0.11 in /usr/local/lib/python3.7/dist-packages (from sphinx>=1.2.0->sphinx-argparse->indic-nlp-library) (0.17.1)\n",
            "Requirement already satisfied: imagesize in /usr/local/lib/python3.7/dist-packages (from sphinx>=1.2.0->sphinx-argparse->indic-nlp-library) (1.3.0)\n",
            "Requirement already satisfied: setuptools in /usr/local/lib/python3.7/dist-packages (from sphinx>=1.2.0->sphinx-argparse->indic-nlp-library) (57.4.0)\n",
            "Requirement already satisfied: Pygments>=2.0 in /usr/local/lib/python3.7/dist-packages (from sphinx>=1.2.0->sphinx-argparse->indic-nlp-library) (2.6.1)\n",
            "Requirement already satisfied: sphinxcontrib-websupport in /usr/local/lib/python3.7/dist-packages (from sphinx>=1.2.0->sphinx-argparse->indic-nlp-library) (1.2.4)\n",
            "Requirement already satisfied: babel!=2.0,>=1.3 in /usr/local/lib/python3.7/dist-packages (from sphinx>=1.2.0->sphinx-argparse->indic-nlp-library) (2.9.1)\n",
            "Requirement already satisfied: packaging in /usr/local/lib/python3.7/dist-packages (from sphinx>=1.2.0->sphinx-argparse->indic-nlp-library) (21.3)\n",
            "Requirement already satisfied: alabaster<0.8,>=0.7 in /usr/local/lib/python3.7/dist-packages (from sphinx>=1.2.0->sphinx-argparse->indic-nlp-library) (0.7.12)\n",
            "Requirement already satisfied: MarkupSafe>=0.23 in /usr/local/lib/python3.7/dist-packages (from Jinja2>=2.3->sphinx>=1.2.0->sphinx-argparse->indic-nlp-library) (2.0.1)\n",
            "Requirement already satisfied: urllib3!=1.25.0,!=1.25.1,<1.26,>=1.21.1 in /usr/local/lib/python3.7/dist-packages (from requests>=2.0.0->sphinx>=1.2.0->sphinx-argparse->indic-nlp-library) (1.24.3)\n",
            "Requirement already satisfied: idna<3,>=2.5 in /usr/local/lib/python3.7/dist-packages (from requests>=2.0.0->sphinx>=1.2.0->sphinx-argparse->indic-nlp-library) (2.10)\n",
            "Requirement already satisfied: chardet<4,>=3.0.2 in /usr/local/lib/python3.7/dist-packages (from requests>=2.0.0->sphinx>=1.2.0->sphinx-argparse->indic-nlp-library) (3.0.4)\n",
            "Requirement already satisfied: certifi>=2017.4.17 in /usr/local/lib/python3.7/dist-packages (from requests>=2.0.0->sphinx>=1.2.0->sphinx-argparse->indic-nlp-library) (2021.10.8)\n",
            "Requirement already satisfied: pyparsing!=3.0.5,>=2.0.2 in /usr/local/lib/python3.7/dist-packages (from packaging->sphinx>=1.2.0->sphinx-argparse->indic-nlp-library) (3.0.6)\n",
            "Requirement already satisfied: sphinxcontrib-serializinghtml in /usr/local/lib/python3.7/dist-packages (from sphinxcontrib-websupport->sphinx>=1.2.0->sphinx-argparse->indic-nlp-library) (1.1.5)\n",
            "Installing collected packages: sphinx-rtd-theme, sphinx-argparse, morfessor, indic-nlp-library\n",
            "Successfully installed indic-nlp-library-0.81 morfessor-2.0.6 sphinx-argparse-0.3.1 sphinx-rtd-theme-1.0.0\n"
          ]
        }
      ]
    },
    {
      "cell_type": "code",
      "metadata": {
        "id": "LAwMBy4sVHf_",
        "colab": {
          "base_uri": "https://localhost:8080/"
        },
        "outputId": "39e6348f-d746-4efb-dfd8-1a14cb19c9b3"
      },
      "source": [
        "import pandas as pd\n",
        "from collections import Counter\n",
        "import numpy as np\n",
        "np.random.seed(10)\n",
        "import pandas as pd\n",
        "import numpy as np\n",
        "import torch\n",
        "from torch.nn import *\n",
        "from torch import nn\n",
        "import torch.nn.functional as f\n",
        "from torch.optim.lr_scheduler import *\n",
        "from collections import Counter\n",
        "from torchtext.data.utils import get_tokenizer\n",
        "from tqdm import notebook\n",
        "from torchtext.vocab import *\n",
        "from torch.utils.data import *\n",
        "torch.manual_seed(42)"
      ],
      "execution_count": null,
      "outputs": [
        {
          "output_type": "execute_result",
          "data": {
            "text/plain": [
              "<torch._C.Generator at 0x7f26dd1298b0>"
            ]
          },
          "metadata": {},
          "execution_count": 1
        }
      ]
    },
    {
      "cell_type": "code",
      "metadata": {
        "id": "K71GVaSW_LcR"
      },
      "source": [
        "import sys\n",
        "from indicnlp import common\n",
        "\n",
        "# The path to the local git repo for Indic NLP library\n",
        "INDIC_NLP_LIB_HOME=r\"indic_nlp_library\"\n",
        "\n",
        "# The path to the local git repo for Indic NLP Resources\n",
        "INDIC_NLP_RESOURCES=r\"indic_nlp_resources\"\n",
        "\n",
        "# Add library to Python path\n",
        "sys.path.append(r'{}\\src'.format(INDIC_NLP_LIB_HOME))\n",
        "\n",
        "# Set environment variable for resources folder\n",
        "common.set_resources_path(INDIC_NLP_RESOURCES)\n"
      ],
      "execution_count": null,
      "outputs": []
    },
    {
      "cell_type": "code",
      "metadata": {
        "id": "luCgla9kI0fB"
      },
      "source": [
        "data = pd.read_csv(\"/content/drive/MyDrive/SentiMent_Analysis/final_data.csv\")"
      ],
      "execution_count": null,
      "outputs": []
    },
    {
      "cell_type": "code",
      "metadata": {
        "id": "5_eDbR-VUm4H"
      },
      "source": [
        "data[\"sentiment\"] =data[\"sentiment\"].map({\n",
        "    \"Happy\":1,\n",
        "    \"Sad\":0,\n",
        "    \"Sadness\":0,\n",
        "    \"Anger\":0\n",
        "})"
      ],
      "execution_count": null,
      "outputs": []
    },
    {
      "cell_type": "code",
      "metadata": {
        "id": "VoFhys0UTe_o"
      },
      "source": [
        "data1 = pd.read_csv(\"/content/drive/MyDrive/SentiMent_Analysis/processed_telugu.csv\")"
      ],
      "execution_count": null,
      "outputs": []
    },
    {
      "cell_type": "code",
      "metadata": {
        "id": "ed5HR5AEWXxh"
      },
      "source": [
        "\n",
        "\n",
        "data = pd.concat((data, data1),ignore_index=True)"
      ],
      "execution_count": null,
      "outputs": []
    },
    {
      "cell_type": "code",
      "metadata": {
        "id": "sJi4Q9bZJqF-"
      },
      "source": [
        "data = data.iloc[np.random.permutation(data.shape[0])]"
      ],
      "execution_count": null,
      "outputs": []
    },
    {
      "cell_type": "code",
      "metadata": {
        "colab": {
          "base_uri": "https://localhost:8080/"
        },
        "id": "m01Sh47SJvHS",
        "outputId": "3d586a63-c3bb-4d7c-97ed-712775bda312"
      },
      "source": [
        "data.shape"
      ],
      "execution_count": null,
      "outputs": [
        {
          "output_type": "execute_result",
          "data": {
            "text/plain": [
              "(1977, 2)"
            ]
          },
          "metadata": {},
          "execution_count": 8
        }
      ]
    },
    {
      "cell_type": "code",
      "metadata": {
        "id": "rv5QGg8_183T"
      },
      "source": [
        "data.dropna(inplace=True)"
      ],
      "execution_count": null,
      "outputs": []
    },
    {
      "cell_type": "code",
      "metadata": {
        "colab": {
          "base_uri": "https://localhost:8080/"
        },
        "id": "6d0U1O9p6ukl",
        "outputId": "3d0ffeb0-8a06-482b-dbc0-a6f327b920ea"
      },
      "source": [
        "data.shape"
      ],
      "execution_count": null,
      "outputs": [
        {
          "output_type": "execute_result",
          "data": {
            "text/plain": [
              "(1976, 2)"
            ]
          },
          "metadata": {},
          "execution_count": 10
        }
      ]
    },
    {
      "cell_type": "code",
      "metadata": {
        "id": "VPnMYuKI6yAI"
      },
      "source": [
        "data.drop_duplicates(inplace=True)"
      ],
      "execution_count": null,
      "outputs": []
    },
    {
      "cell_type": "code",
      "metadata": {
        "colab": {
          "base_uri": "https://localhost:8080/"
        },
        "id": "pj_XGIa84XbX",
        "outputId": "9a5a1384-6ba6-47b2-8978-99eb9fe502b8"
      },
      "source": [
        "data.shape"
      ],
      "execution_count": null,
      "outputs": [
        {
          "output_type": "execute_result",
          "data": {
            "text/plain": [
              "(1961, 2)"
            ]
          },
          "metadata": {},
          "execution_count": 12
        }
      ]
    },
    {
      "cell_type": "code",
      "metadata": {
        "id": "NbgaHukYVPT0"
      },
      "source": [
        "from indicnlp.tokenize import sentence_tokenize\n",
        "from indicnlp.tokenize import indic_tokenize  \n",
        "def text_processor(sentence):\n",
        "    sent = []\n",
        "    for token in indic_tokenize.trivial_tokenize(str(sentence)): \n",
        "        sent.append(str(token))\n",
        "    return sent"
      ],
      "execution_count": null,
      "outputs": []
    },
    {
      "cell_type": "code",
      "metadata": {
        "id": "E9bQA_hlV1z1"
      },
      "source": [
        "from sklearn.model_selection import train_test_split\n",
        "train_data,test_data = train_test_split(data,test_size=0.15,random_state=1)"
      ],
      "execution_count": null,
      "outputs": []
    },
    {
      "cell_type": "code",
      "metadata": {
        "colab": {
          "base_uri": "https://localhost:8080/"
        },
        "id": "ZhJYXFEswXwn",
        "outputId": "52a3c1a9-47be-4c6f-dd3c-891f61a583f7"
      },
      "source": [
        "print(train_data.sentiment.value_counts(),test_data.sentiment.value_counts())"
      ],
      "execution_count": null,
      "outputs": [
        {
          "output_type": "stream",
          "name": "stdout",
          "text": [
            "0    854\n",
            "1    812\n",
            "Name: sentiment, dtype: int64 1    164\n",
            "0    131\n",
            "Name: sentiment, dtype: int64\n"
          ]
        }
      ]
    },
    {
      "cell_type": "code",
      "metadata": {
        "id": "8I6GRwISV5hz"
      },
      "source": [
        "counter = Counter()\n",
        "tokenizer = get_tokenizer(text_processor)\n",
        "with tqdm.notebook.trange(data.shape[0]) as progres_bar:\n",
        "    for i in progres_bar:\n",
        "        progres_bar.set_description(f\"Vocab Builder\")\n",
        "        counter.update(tokenizer(str(data[\"tweet\"].iloc[i])))"
      ],
      "execution_count": null,
      "outputs": []
    },
    {
      "cell_type": "code",
      "metadata": {
        "id": "4sjHzyl3WReM"
      },
      "source": [
        "from torchtext.vocab import *\n",
        "from torch.utils.data import *"
      ],
      "execution_count": null,
      "outputs": []
    },
    {
      "cell_type": "code",
      "metadata": {
        "id": "erkDg5IAXOUu"
      },
      "source": [
        "vocabulary = vocab(counter, min_freq=2)"
      ],
      "execution_count": null,
      "outputs": []
    },
    {
      "cell_type": "code",
      "metadata": {
        "id": "XO0Tu2oWXWKA",
        "colab": {
          "base_uri": "https://localhost:8080/"
        },
        "outputId": "c4f19cd5-e42e-42ee-87aa-afb71364205e"
      },
      "source": [
        "vocabulary.insert_token(\"<pad>\",0)\n",
        "vocabulary.insert_token(\"<unk>\",1)\n",
        "vocabulary.insert_token(\"<sos>\",2)\n",
        "vocabulary.insert_token(\"<eos>\",3)\n",
        "vocabulary.set_default_index(1)\n",
        "print(\"Additional Words: \", vocabulary.lookup_tokens([0,1,2,3]))\n",
        "print(\"Vocab Size: \", len(vocabulary))"
      ],
      "execution_count": null,
      "outputs": [
        {
          "output_type": "stream",
          "name": "stdout",
          "text": [
            "Additional Words:  ['<pad>', '<unk>', '<sos>', '<eos>']\n",
            "Vocab Size:  4\n"
          ]
        }
      ]
    },
    {
      "cell_type": "code",
      "metadata": {
        "id": "zMx5bYWCu-r-"
      },
      "source": [
        "class TokenDataset(Dataset):\n",
        "    def __init__(self, X, Y, vocab, max_length, tokenizer):\n",
        "        self.X = X\n",
        "        self.Y = Y\n",
        "        self.vocab = vocab\n",
        "        self.max_length = max_length\n",
        "        self.tokenizer = tokenizer\n",
        "    def __getitem__(self, i):\n",
        "        tokens = [2]+self.lookup_idx(self.X.iloc[i])\n",
        "        size = min(len(tokens), self.max_length)\n",
        "        ids = np.zeros((self.max_length), dtype=np.int64)\n",
        "        masks =  np.ones((self.max_length), dtype=np.bool_)\n",
        "        ids[:size] = tokens[:size]\n",
        "        ids[size-1] = 3\n",
        "        masks[:size] = False\n",
        "        return (\n",
        "            torch.from_numpy(ids),\n",
        "            torch.from_numpy(masks),\n",
        "            torch.tensor(self.Y.iloc[i])\n",
        "        )\n",
        "    def __len__(self):\n",
        "        return self.X.shape[0]\n",
        "    def lookup_idx(self,sentence):\n",
        "        return self.vocab(self.tokenizer(sentence))\n"
      ],
      "execution_count": null,
      "outputs": []
    },
    {
      "cell_type": "code",
      "metadata": {
        "id": "nItNl8SdrVjb"
      },
      "source": [
        "MAX_LENGTH = 72\n",
        "train_ds = TokenDataset(\n",
        "                        X = train_data[\"tweet\"], \n",
        "                        Y = train_data[\"sentiment\"], \n",
        "                        vocab = vocabulary, \n",
        "                        max_length = MAX_LENGTH,\n",
        "                        tokenizer = text_processor)\n",
        "test_ds = TokenDataset(\n",
        "                        X = test_data[\"tweet\"], \n",
        "                        Y = test_data[\"sentiment\"], \n",
        "                        vocab = vocabulary, \n",
        "                        max_length = MAX_LENGTH,\n",
        "                       tokenizer = text_processor)"
      ],
      "execution_count": null,
      "outputs": []
    },
    {
      "cell_type": "code",
      "metadata": {
        "colab": {
          "base_uri": "https://localhost:8080/",
          "height": 337
        },
        "id": "v7m_kMYJrXZq",
        "outputId": "634fb057-6ac5-49ed-82b6-de455e4b445a"
      },
      "source": [
        "ds = test_ds\n",
        "shapes = []\n",
        "for i in range(0,len(ds)):\n",
        "    shapes.append(MAX_LENGTH - train_ds[i][1].sum().item())\n",
        "print(max(shapes))\n",
        "import matplotlib.pyplot as plt\n",
        "plt.hist(shapes)"
      ],
      "execution_count": null,
      "outputs": [
        {
          "output_type": "stream",
          "name": "stdout",
          "text": [
            "72\n"
          ]
        },
        {
          "output_type": "execute_result",
          "data": {
            "text/plain": [
              "(array([34., 70., 31., 37., 17.,  7.,  7.,  8.,  7., 77.]),\n",
              " array([ 2.,  9., 16., 23., 30., 37., 44., 51., 58., 65., 72.]),\n",
              " <a list of 10 Patch objects>)"
            ]
          },
          "metadata": {},
          "execution_count": 21
        },
        {
          "output_type": "display_data",
          "data": {
            "image/png": "[encoded data removed]",
            "text/plain": [
              "<Figure size 432x288 with 1 Axes>"
            ]
          },
          "metadata": {
            "needs_background": "light"
          }
        }
      ]
    },
    {
      "cell_type": "code",
      "metadata": {
        "id": "j6ryVfV-v2D-"
      },
      "source": [
        "train_dl = DataLoader(train_ds, batch_size=64)\n",
        "test_dl = DataLoader(test_ds, batch_size=64)"
      ],
      "execution_count": null,
      "outputs": []
    },
    {
      "cell_type": "code",
      "metadata": {
        "id": "bCQUFw-fr51M"
      },
      "source": [
        "class TransformerRNN(nn.Module):\n",
        "    def __init__(\n",
        "        self, vocab_size, embed_dim, n_heads,\n",
        "        n_feed, dropout, n_layers, seq_length, hidden_size\n",
        "        ):\n",
        "\n",
        "        super(TransformerRNN, self).__init__()\n",
        "        \n",
        "        self.embed_dim = embed_dim\n",
        "\n",
        "        self.embedding = nn.Embedding(vocab_size,\n",
        "                                      embedding_dim=self.embed_dim,\n",
        "                                      padding_idx=0)\n",
        "        \n",
        "\n",
        "        self.trans_enc_layer = nn.TransformerEncoderLayer(\n",
        "                                d_model = self.embed_dim,\n",
        "                                nhead = n_heads,\n",
        "                                dim_feedforward = n_feed,\n",
        "                                dropout = dropout,\n",
        "                                batch_first = True,\n",
        "                                )\n",
        "        \n",
        "        self.trans_encoder = nn.TransformerEncoder(\n",
        "                                encoder_layer = self.trans_enc_layer,\n",
        "                                num_layers = n_layers,\n",
        "                                )\n",
        "        \n",
        "\n",
        "        self.seq_length = seq_length\n",
        "\n",
        "        self.hidden_size = hidden_size\n",
        "\n",
        "        self.lstm = nn.LSTM(\n",
        "                            self.embed_dim, \n",
        "                            hidden_size = self.hidden_size, \n",
        "                            num_layers=2, \n",
        "                            bidirectional=True, \n",
        "                            dropout=0.2,\n",
        "                            batch_first=True)\n",
        "\n",
        "        self.fc = nn.Linear(self.hidden_size*2, 2)\n",
        "        \n",
        "\n",
        "    def forward(self, ids, masks):\n",
        "        embed_out = self.embedding(ids)\n",
        "        trans_out = self.trans_encoder(embed_out, src_key_padding_mask = masks)\n",
        "        out, (hidden, _) = self.lstm(f.relu(trans_out))\n",
        "        dense_outputs=self.fc(f.relu(out[:,-1,:]))\n",
        "        return dense_outputs\n",
        "\n",
        "    \n"
      ],
      "execution_count": null,
      "outputs": []
    },
    {
      "cell_type": "code",
      "metadata": {
        "id": "yeY1ZQwyuwNs"
      },
      "source": [
        "class TransformerCNN(nn.Module):\n",
        "    def __init__(\n",
        "        self,vocab_size, embed_dim, n_heads,\n",
        "        n_feed, dropout, n_layers, seq_length, kernal_size\n",
        "        ):\n",
        "\n",
        "        super(TransformerCNN, self).__init__()\n",
        "        \n",
        "        self.embed_dim = embed_dim\n",
        "\n",
        "        self.embedding = nn.Embedding(vocab_size,\n",
        "                                      embedding_dim=self.embed_dim,\n",
        "                                      padding_idx=0)\n",
        "        \n",
        "\n",
        "        self.trans_enc_layer = nn.TransformerEncoderLayer(\n",
        "                                d_model = self.embed_dim,\n",
        "                                nhead = n_heads,\n",
        "                                dim_feedforward = n_feed,\n",
        "                                dropout = dropout,\n",
        "                                batch_first = True,\n",
        "                                )\n",
        "        \n",
        "        self.trans_encoder = nn.TransformerEncoder(\n",
        "                                encoder_layer = self.trans_enc_layer,\n",
        "                                num_layers = n_layers,\n",
        "                                )\n",
        "        \n",
        "\n",
        "        self.seq_length = seq_length\n",
        "\n",
        "        self.kernal_size = kernal_size\n",
        "        self.conv_1d = nn.Conv1d(\n",
        "                                in_channels=self.embed_dim,\n",
        "                                out_channels = self.seq_length,\n",
        "                                kernel_size  = kernal_size\n",
        "                                )\n",
        "\n",
        "\n",
        "        self.pool_1d = nn.AvgPool1d(kernel_size=self.seq_length-kernal_size)\n",
        "\n",
        "        self.linear = nn.Linear(self.seq_length, 2)\n",
        "\n",
        "\n",
        "\n",
        "    def forward(self, ids, masks):\n",
        "\n",
        "        embed_out = self.embedding(ids)\n",
        "        trans_out = self.trans_encoder(embed_out, src_key_padding_mask = masks)\n",
        "        conv_out = self.conv_1d(trans_out.reshape(-1,self.embed_dim, self.seq_length))\n",
        "        pool_out = self.pool_1d(f.dropout(f.relu(conv_out),0.2))\n",
        "        final_out = self.linear(f.dropout(f.relu(pool_out.view(-1,self.seq_length)),0.2))\n",
        "        return final_out\n"
      ],
      "execution_count": null,
      "outputs": []
    },
    {
      "cell_type": "code",
      "metadata": {
        "colab": {
          "base_uri": "https://localhost:8080/"
        },
        "id": "U5B0AhsrvA3g",
        "outputId": "778f5f40-aade-4eea-86c4-ef01d1690c48"
      },
      "source": [
        "try: \n",
        "    del model\n",
        "except:\n",
        "    pass\n",
        "model = TransformerRNN(\n",
        "    vocab_size = len(vocabulary),\n",
        "    embed_dim = 100,\n",
        "    n_heads = 2,\n",
        "    n_feed = 512,\n",
        "    dropout = 0.3, \n",
        "    n_layers = 2, \n",
        "    seq_length = MAX_LENGTH,\n",
        "    hidden_size=128\n",
        ")\n",
        "\n",
        "model.float()\n",
        "print(\"Model Instantiated\")"
      ],
      "execution_count": null,
      "outputs": [
        {
          "output_type": "stream",
          "name": "stdout",
          "text": [
            "Model Instantiated\n"
          ]
        }
      ]
    },
    {
      "cell_type": "code",
      "metadata": {
        "colab": {
          "base_uri": "https://localhost:8080/"
        },
        "id": "55ISH_MlvWeo",
        "outputId": "5ce063d8-73bc-4b0a-ff12-3dc87dae3a63"
      },
      "source": [
        "try: \n",
        "    del model\n",
        "except:\n",
        "    pass\n",
        "model = TransformerCNN(\n",
        "    vocab_size = len(vocabulary),\n",
        "    embed_dim = 100,\n",
        "    n_heads = 4,\n",
        "    n_feed = 1024,\n",
        "    dropout = 0.2, \n",
        "    n_layers = 3, \n",
        "    seq_length = MAX_LENGTH,\n",
        "    kernal_size = 3\n",
        ")\n",
        "model.float()\n",
        "print(\"Model Instantiated\")"
      ],
      "execution_count": null,
      "outputs": [
        {
          "output_type": "stream",
          "name": "stdout",
          "text": [
            "Model Instantiated\n"
          ]
        }
      ]
    },
    {
      "cell_type": "code",
      "metadata": {
        "id": "F6MmJ-0bvb5z"
      },
      "source": [
        "import torch\n",
        "import sklearn\n",
        "from tqdm import notebook\n",
        "from sklearn import metrics\n",
        "from torch.optim import *\n",
        "from torch import nn, optim\n",
        "import matplotlib.pyplot as plt\n",
        "torch.manual_seed(0)\n",
        "class Learner:\n",
        "    def __init__(self,model:nn.Module,train_dataloader:torch.utils.data.DataLoader,\n",
        "                 val_dataloader:torch.utils.data.DataLoader,optimizer:optim.Optimizer=Adam,\n",
        "                 loss_func:torch.nn=nn.CrossEntropyLoss,lr_scheduler:optim.lr_scheduler=None,\n",
        "                 lr_rate:float=1e-03,metric:sklearn.metrics=metrics.accuracy_score,\n",
        "                 model_name:str=\"\", is_save:bool = False, n_steps:int = 2, gamma:float=0.5):\n",
        "        self.device=torch.device(\"cuda\") if torch.cuda.is_available() else torch.device(\"cpu\")\n",
        "        self.model=model.to(self.device)\n",
        "        self.train_dataloader=train_dataloader\n",
        "        self.val_dataloader=val_dataloader\n",
        "        self.optimizer=optimizer(self.model.parameters(),lr_rate)\n",
        "        self.loss_func=loss_func()\n",
        "        self.lr_scheduler=lr_scheduler(self.optimizer,n_steps,gamma = gamma)\n",
        "        self.train_loss, self.val_loss, self.train_score, self.val_score=[],[],[],[]\n",
        "        self.train_pred_label = torch.tensor([])\n",
        "        self.train_act_label = torch.tensor([])\n",
        "        self.val_pred_label = torch.tensor([])\n",
        "        self.val_act_label = torch.tensor([])\n",
        "        self.metric=metric\n",
        "        self.is_save = is_save\n",
        "        self.model_name  = model_name\n",
        "\n",
        "    def set_act_label(self):\n",
        "        with notebook.tqdm(enumerate(self.train_dataloader),total=len(self.train_dataloader),leave=False,unit=\"epoch\") as tbatch:\n",
        "            for i,(_,_,targets) in tbatch:\n",
        "                self.train_act_label = torch.cat((self.train_act_label, targets.view(-1).int().cpu()))\n",
        "        with notebook.tqdm(enumerate(self.val_dataloader),total=len(self.val_dataloader),leave=False,unit=\"epoch\") as tbatch:\n",
        "            for i,(_,_,targets) in tbatch:\n",
        "                self.val_act_label = torch.cat((self.val_act_label, targets.view(-1).int().cpu()))\n",
        "\n",
        "    def train_batch(self, inputs, masks, targets):\n",
        "        self.optimizer.zero_grad()\n",
        "        outputs=self.model(inputs.to(self.device),masks.to(self.device))\n",
        "        loss=self.loss_func(outputs,targets.to(self.device).type(torch.long))\n",
        "        loss.backward()\n",
        "        self.optimizer.step()\n",
        "        return torch.max(outputs,dim=-1),loss.item()\n",
        "\n",
        "    def val_batch(self, inputs, masks, targets):\n",
        "        self.optimizer.zero_grad()\n",
        "        outputs=self.model(inputs.to(self.device), masks.to(self.device))\n",
        "        loss=self.loss_func(outputs,targets.to(self.device).type(torch.long))\n",
        "        return torch.max(outputs,dim=-1),loss.item()\n",
        "\n",
        "    def training(self):\n",
        "        self.model.train()\n",
        "        train_score, train_loss = 0, 0\n",
        "        \n",
        "        with notebook.tqdm(enumerate(self.train_dataloader),total=len(self.train_dataloader),leave=False,unit=\"epoch\") as tbatch:\n",
        "            for i,(inputs, masks, targets) in tbatch:\n",
        "                tbatch.set_description(f\"training batch\")\n",
        "                (_,pred_out),loss = self.train_batch(inputs, masks, targets)\n",
        "                score = self.metric(targets.int().detach().cpu().numpy(),\n",
        "                                        pred_out.int().detach().cpu().numpy())\n",
        "                self.train_pred_label = torch.cat((self.train_pred_label, pred_out.int().detach().cpu().view(-1)), dim=0)\n",
        "                train_score +=score\n",
        "                train_loss += loss\n",
        "                tbatch.set_postfix(train_loss=np.round(train_loss/(i+1),4), train_score=np.round(train_score/(i+1),4))\n",
        "            self.train_score.append(train_score/len(self.train_dataloader))\n",
        "            self.train_loss.append(train_loss/len(self.train_dataloader))\n",
        "        return np.round(train_score/len(self.train_dataloader),decimals=8),\\\n",
        "               np.round(train_loss/len(self.train_dataloader),decimals=8)\n",
        "    \n",
        "    def validating(self):\n",
        "        self.model.eval()\n",
        "        val_score, val_loss = 0, 0\n",
        "\n",
        "        with notebook.tqdm(enumerate(self.val_dataloader),total=len(self.val_dataloader),leave=False,unit=\"epoch\") as tbatch:\n",
        "            for i,(inputs, masks, targets) in tbatch:\n",
        "                tbatch.set_description(f\"testing batch\")\n",
        "                (_,pred_out),loss = self.val_batch(inputs, masks, targets)\n",
        "                score = self.metric(targets.int().detach().cpu().numpy(),\n",
        "                                        pred_out.int().detach().cpu().numpy() )\n",
        "                self.val_pred_label = torch.cat((self.val_pred_label, pred_out.int().detach().cpu().view(-1)), dim=0)\n",
        "                val_score +=score\n",
        "                val_loss += loss\n",
        "                tbatch.set_postfix(val_loss=np.round(val_loss/(i+1),4),val_score=np.round(val_score/(i+1),4))\n",
        "            self.val_score.append(val_score/len(self.val_dataloader))\n",
        "            self.val_loss.append(val_loss/len(self.val_dataloader))\n",
        "            return np.round(val_score/len(self.val_dataloader),decimals=8),\\\n",
        "               np.round(val_loss/len(self.val_dataloader),decimals=8)\n",
        "\n",
        "\n",
        "    def fit(self,epochs):\n",
        "        print(\"{:<8s}{:<14s}{:<14s}{:<14s}{:<14s}\".format('Epoch', 'train_loss', 'val_loss', 'val_acc', 'train acc'))\n",
        "        print(\"{:<8s}{:<14s}{:<14s}{:<14s}{:<14s}\".format('-----', '----------', '--------', '-------', '---------'))\n",
        "        with notebook.trange(epochs,total=epochs,leave=False,unit=\"epoch\") as tepoch:\n",
        "            for epoch in tepoch:\n",
        "                self.train_pred_label = torch.tensor([])\n",
        "                self.val_pred_label = torch.tensor([])\n",
        "                tepoch.set_description(f\"Epoch\")\n",
        "                train_score, train_loss = self.training()\n",
        "                val_score, val_loss = self.validating()\n",
        "                \n",
        "                if self.lr_scheduler != None:\n",
        "                    self.lr_scheduler.step()\n",
        "\n",
        "                if self.is_save:\n",
        "                    path = f\"{self.model_name}_checkpoint_at_epoch_{epoch+1}.pt\"\n",
        "                    torch.save(self.model,path)\n",
        "                    \n",
        "                tepoch.set_postfix(train_loss=train_loss,val_loss=val_loss,\n",
        "                                   train_score=train_score,val_score=val_score)\n",
        "                                   \n",
        "                print(\"{:<8s}{:<14s}{:<14s}{:<14s}{:<14s}\".format(str(epoch + 1) + '/' + str(epochs),\n",
        "                                                                str(train_loss), str(val_loss),\n",
        "                                                                str(val_score), str(train_score)))\n",
        "\n",
        "    def predict(self, inputs):\n",
        "        p=nn.Softmax(dim=-1)\n",
        "        prob, target=torch.max(self.model(inputs.to(self.device).type(torch.int).unsqueeze_(dim=0)),dim=-1)\n",
        "        prob=p(prob)\n",
        "        label = \"stress\" if target[0]==1 else \"non-stress\"\n",
        "        print(f\"Predicted:  {label}\\nProbality: {prob.detach().cpu().item()}.\")\n",
        "\n",
        "    def metric_plotter(self):\n",
        "        plt.plot(np.arange(0, len(self.train_score)), self.train_score,\n",
        "                 'blue', label='train score')\n",
        "        plt.plot(np.arange(0, len(self.val_score)), self.val_score,\n",
        "                 'orange', label='val score')\n",
        "\n",
        "    def loss_plotter(self):\n",
        "        plt.plot(np.arange(0, len(self.train_loss)), self.train_loss,\n",
        "                 'blue', label='train loss')\n",
        "        plt.plot(np.arange(0, len(self.val_loss)), self.val_loss,\n",
        "                 'orange', label='val loss')\n",
        "\n"
      ],
      "execution_count": null,
      "outputs": []
    },
    {
      "cell_type": "code",
      "metadata": {
        "colab": {
          "base_uri": "https://localhost:8080/",
          "height": 17,
          "referenced_widgets": [
            "b8939c2a6e3242c0b3a200a542d273c2",
            "64c6eb88708c46d2affdb134f35d9c91",
            "d99b57d0496f4c2da746861cd008c0d7",
            "6156547a24ca424c9bf9fcc929d27ba1",
            "6a13ca024d59403d9d83a071fdb87a68",
            "0a75cbad7e1747d4a253f1a449e91905",
            "ad63514575104441916c135840409389",
            "ee5b889bfe4c4b7eb67b51870f0414d7",
            "9ed7122150c84c76a459c9b7ce0e4f91",
            "0a694b1e72b946c087ac184735fed29c",
            "fe39bff215e942569d0fa1c3ea7f5597",
            "fb81248a461e4f45ac1e42c911d05f02",
            "abfee5ff9e9c41c586d798a7c4ed25dc",
            "1a87d924f9154035ba388dc0440ac7d2",
            "5fa0b4f0a8274f7c898a450309da5e65",
            "a81657ab071a4b04940569b93493e531",
            "092c8d7f40044d62b1158d1d239a8964",
            "99167a45681a41a09dbc27be665c4040",
            "b4723df4e80a48deb11d505c7c12649f",
            "796b605b0f8949ba853f431c5205a847",
            "85f8bc93066a40ffb3c8cd440b357d9c",
            "05f6c47b4ac44cc58691cdd7e4a2ee02"
          ]
        },
        "id": "7ZwmEN5IveWr",
        "outputId": "ec07d9ac-67e0-46b8-fd99-36c15a39354a"
      },
      "source": [
        "try: \n",
        "    del text_learner \n",
        "except: \n",
        "    pass\n",
        "text_learner = Learner(\n",
        "                        model = model,\n",
        "                        train_dataloader = train_dl,\n",
        "                        val_dataloader = test_dl,\n",
        "                        optimizer = Adamax,\n",
        "                        lr_rate = 3*1e-05,\n",
        "                        is_save = True, \n",
        "                        metric = metrics.accuracy_score, \n",
        "                        lr_scheduler = StepLR, \n",
        "                        gamma = 0.6, \n",
        "                        n_steps = 2, \n",
        "                        model_name = \"trans_lstm\"\n",
        "                        )\n",
        "\n",
        "text_learner.set_act_label()"
      ],
      "execution_count": null,
      "outputs": [
        {
          "output_type": "display_data",
          "data": {
            "application/vnd.jupyter.widget-view+json": {
              "model_id": "b8939c2a6e3242c0b3a200a542d273c2",
              "version_minor": 0,
              "version_major": 2
            },
            "text/plain": [
              "  0%|          | 0/27 [00:00<?, ?epoch/s]"
            ]
          },
          "metadata": {}
        },
        {
          "output_type": "display_data",
          "data": {
            "application/vnd.jupyter.widget-view+json": {
              "model_id": "fb81248a461e4f45ac1e42c911d05f02",
              "version_minor": 0,
              "version_major": 2
            },
            "text/plain": [
              "  0%|          | 0/5 [00:00<?, ?epoch/s]"
            ]
          },
          "metadata": {}
        }
      ]
    },
    {
      "cell_type": "code",
      "metadata": {
        "id": "NaYInuLAvgA3"
      },
      "source": [
        "text_learner.fit(20)"
      ],
      "execution_count": null,
      "outputs": []
    },
    {
      "cell_type": "code",
      "metadata": {
        "id": "XR775JJ4v-dJ"
      },
      "source": [
        ""
      ],
      "execution_count": null,
      "outputs": []
    }
  ]
}