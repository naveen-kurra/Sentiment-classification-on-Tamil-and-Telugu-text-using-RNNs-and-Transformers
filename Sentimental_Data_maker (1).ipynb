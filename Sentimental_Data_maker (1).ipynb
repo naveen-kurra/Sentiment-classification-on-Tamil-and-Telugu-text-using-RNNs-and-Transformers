{
  "nbformat": 4,
  "nbformat_minor": 0,
  "metadata": {
    "colab": {
      "name": "Sentimental Data maker",
      "provenance": [],
      "collapsed_sections": []
    },
    "kernelspec": {
      "name": "python3",
      "display_name": "Python 3"
    },
    "language_info": {
      "name": "python"
    }
  },
  "cells": [
    {
      "cell_type": "code",
      "metadata": {
        "id": "m8SPSPwTl3I9"
      },
      "source": [
        "import pandas as pd\n",
        "import os\n",
        "import numpy as np\n",
        "import re"
      ],
      "execution_count": null,
      "outputs": []
    },
    {
      "cell_type": "code",
      "metadata": {
        "id": "LFOZDlfAvHUt"
      },
      "source": [
        "def reader(filename, sep=\"__________________________\", lab=1):\n",
        "    data = pd.read_csv(filename, sep = \"\\n\", header=None, error_bad_lines=False)\n",
        "    lines = []\n",
        "    line=\"\"\n",
        "    for i in range(len(data)):\n",
        "        if(data.iloc[i][0]==sep ):\n",
        "            if line is not \"\":\n",
        "                lines.append(line)\n",
        "                line = \"\"\n",
        "        else:\n",
        "            line+=data.iloc[i][0]\n",
        "    df = pd.DataFrame({\"sentence\":lines,\"label\":[lab]*len(lines)})\n",
        "    return df"
      ],
      "execution_count": null,
      "outputs": []
    },
    {
      "cell_type": "code",
      "metadata": {
        "id": "tkRXscMQyENH"
      },
      "source": [
        "main_dir = \"/content/drive/MyDrive/SentiMent_Analysis/Sentimental\""
      ],
      "execution_count": null,
      "outputs": []
    },
    {
      "cell_type": "code",
      "metadata": {
        "id": "_QhY-rmIw3hT"
      },
      "source": [
        "files = []\n",
        "main_df = pd.DataFrame(columns = [\"sentence\", \"label\"])\n",
        "for dir in os.listdir(main_dir):\n",
        "    if dir not in [\"Song_Lyrics\"]:\n",
        "        for file in os.listdir(os.path.join(main_dir, dir)):\n",
        "            file_path = os.path.join(main_dir,os.path.join(dir, file))\n",
        "            df = reader(file_path, lab = 1 if file_path.__contains__(\"pos\") else 0)\n",
        "            main_df = pd.concat((main_df, df), ignore_index=True)"
      ],
      "execution_count": null,
      "outputs": []
    },
    {
      "cell_type": "code",
      "metadata": {
        "colab": {
          "base_uri": "https://localhost:8080/"
        },
        "id": "pRk3-bkUw9N0",
        "outputId": "6ac4890f-b7d0-47c8-c428-8afaa5999f85"
      },
      "source": [
        "main_df.label.value_counts()"
      ],
      "execution_count": null,
      "outputs": [
        {
          "output_type": "execute_result",
          "data": {
            "text/plain": [
              "1    333\n",
              "0    328\n",
              "Name: label, dtype: int64"
            ]
          },
          "metadata": {
            "tags": []
          },
          "execution_count": 5
        }
      ]
    },
    {
      "cell_type": "code",
      "metadata": {
        "id": "f3bWNzDLz1sS"
      },
      "source": [
        "song_dir = \"/content/drive/MyDrive/SentiMent_Analysis/Sentimental/Song_Lyrics\""
      ],
      "execution_count": null,
      "outputs": []
    },
    {
      "cell_type": "code",
      "metadata": {
        "id": "Eb_mgDbp2nC1"
      },
      "source": [
        "for dir in os.listdir(song_dir):\n",
        "    songs = []\n",
        "    for file in os.listdir(os.path.join(song_dir, dir)):\n",
        "        song = open(os.path.join(song_dir,os.path.join(dir, file))).read()\n",
        "        songs.append(song)\n",
        "    main_df = pd.concat(\n",
        "        (main_df,\n",
        "         pd.DataFrame({\"sentence\":songs, \"label\":0 if dir==\"negative\" else 1})),\n",
        "         ignore_index=True\n",
        "    )"
      ],
      "execution_count": null,
      "outputs": []
    },
    {
      "cell_type": "code",
      "metadata": {
        "colab": {
          "base_uri": "https://localhost:8080/"
        },
        "id": "wwqRpgaB4Xc7",
        "outputId": "48082a69-879a-4c2b-d18a-bfa477d30ad3"
      },
      "source": [
        "main_df[\"label\"].value_counts()"
      ],
      "execution_count": null,
      "outputs": [
        {
          "output_type": "execute_result",
          "data": {
            "text/plain": [
              "1    333\n",
              "0    328\n",
              "Name: label, dtype: int64"
            ]
          },
          "metadata": {
            "tags": []
          },
          "execution_count": 6
        }
      ]
    },
    {
      "cell_type": "code",
      "metadata": {
        "id": "yLvFlLDl58Ir"
      },
      "source": [
        "main_df = main_df.iloc[np.random.permutation(main_df.shape[0])]"
      ],
      "execution_count": null,
      "outputs": []
    },
    {
      "cell_type": "code",
      "metadata": {
        "id": "a_y9EGFf6H1E"
      },
      "source": [
        "main_df = main_df.reset_index(drop=True)"
      ],
      "execution_count": null,
      "outputs": []
    },
    {
      "cell_type": "code",
      "metadata": {
        "id": "DNgb2QpD5OpK"
      },
      "source": [
        "main_df.to_csv(\"telugu_data.csv\", index=False)"
      ],
      "execution_count": null,
      "outputs": []
    },
    {
      "cell_type": "code",
      "metadata": {
        "id": "lFu-I9da5kOv"
      },
      "source": [
        "import shutil"
      ],
      "execution_count": null,
      "outputs": []
    },
    {
      "cell_type": "code",
      "metadata": {
        "colab": {
          "base_uri": "https://localhost:8080/",
          "height": 35
        },
        "id": "TjkiNMrw5mQn",
        "outputId": "f6ac1bb0-10b4-4671-a965-b448fe5df33d"
      },
      "source": [
        "shutil.copy(\n",
        "    \"/content/telugu_data.csv\",\n",
        "    \"/content/drive/MyDrive/SentiMent_Analysis/telugu_data.csv\"\n",
        ")"
      ],
      "execution_count": null,
      "outputs": [
        {
          "output_type": "execute_result",
          "data": {
            "application/vnd.google.colaboratory.intrinsic+json": {
              "type": "string"
            },
            "text/plain": [
              "'/content/drive/MyDrive/SentiMent_Analysis/telugu_data.csv'"
            ]
          },
          "metadata": {
            "tags": []
          },
          "execution_count": 10
        }
      ]
    },
    {
      "cell_type": "code",
      "metadata": {
        "id": "in8QDi965yio"
      },
      "source": [
        "data = pd.read_csv(\"/content/drive/MyDrive/SentiMent_Analysis/telugu_data.csv\")"
      ],
      "execution_count": null,
      "outputs": []
    },
    {
      "cell_type": "code",
      "metadata": {
        "id": "aI8AYw8O802t"
      },
      "source": [
        "data.columns = [\"tweet\",\"sentiment\"]"
      ],
      "execution_count": null,
      "outputs": []
    },
    {
      "cell_type": "code",
      "metadata": {
        "colab": {
          "base_uri": "https://localhost:8080/",
          "height": 203
        },
        "id": "YyYgIIdi9ArX",
        "outputId": "ef3b4a0c-dff1-4914-9381-417b22d1e95b"
      },
      "source": [
        "data.head()"
      ],
      "execution_count": null,
      "outputs": [
        {
          "output_type": "execute_result",
          "data": {
            "text/html": [
              "<div>\n",
              "<style scoped>\n",
              "    .dataframe tbody tr th:only-of-type {\n",
              "        vertical-align: middle;\n",
              "    }\n",
              "\n",
              "    .dataframe tbody tr th {\n",
              "        vertical-align: top;\n",
              "    }\n",
              "\n",
              "    .dataframe thead th {\n",
              "        text-align: right;\n",
              "    }\n",
              "</style>\n",
              "<table border=\"1\" class=\"dataframe\">\n",
              "  <thead>\n",
              "    <tr style=\"text-align: right;\">\n",
              "      <th></th>\n",
              "      <th>tweet</th>\n",
              "      <th>sentiment</th>\n",
              "    </tr>\n",
              "  </thead>\n",
              "  <tbody>\n",
              "    <tr>\n",
              "      <th>0</th>\n",
              "      <td>\\t\\t\\tచిత్రం  ‘జెంటిల్ మన్’   నటీనటులు నాని - ...</td>\n",
              "      <td>1</td>\n",
              "    </tr>\n",
              "    <tr>\n",
              "      <th>1</th>\n",
              "      <td>రవీంద్రనాథ్ ఠాగూర్ సార్ రచించిన కవితలు నిజంగా ...</td>\n",
              "      <td>1</td>\n",
              "    </tr>\n",
              "    <tr>\n",
              "      <th>2</th>\n",
              "      <td>నేను మూడు నెలల ముందు ఒక కొత్త సామ్సంగ్J2 2016 ...</td>\n",
              "      <td>0</td>\n",
              "    </tr>\n",
              "    <tr>\n",
              "      <th>3</th>\n",
              "      <td>నికోన్ D80 నేను ఇటీవల నా సమీప నికోన్ షోరూమ్ ను...</td>\n",
              "      <td>0</td>\n",
              "    </tr>\n",
              "    <tr>\n",
              "      <th>4</th>\n",
              "      <td>కొత్త హీరోలను ఇండస్ట్రీకి పరిచయం చే...</td>\n",
              "      <td>0</td>\n",
              "    </tr>\n",
              "  </tbody>\n",
              "</table>\n",
              "</div>"
            ],
            "text/plain": [
              "                                               tweet  sentiment\n",
              "0  \\t\\t\\tచిత్రం  ‘జెంటిల్ మన్’   నటీనటులు నాని - ...          1\n",
              "1  రవీంద్రనాథ్ ఠాగూర్ సార్ రచించిన కవితలు నిజంగా ...          1\n",
              "2  నేను మూడు నెలల ముందు ఒక కొత్త సామ్సంగ్J2 2016 ...          0\n",
              "3  నికోన్ D80 నేను ఇటీవల నా సమీప నికోన్ షోరూమ్ ను...          0\n",
              "4             కొత్త హీరోలను ఇండస్ట్రీకి పరిచయం చే...          0"
            ]
          },
          "metadata": {
            "tags": []
          },
          "execution_count": 16
        }
      ]
    },
    {
      "cell_type": "code",
      "metadata": {
        "id": "L87x0eijBxAl"
      },
      "source": [
        ""
      ],
      "execution_count": null,
      "outputs": []
    },
    {
      "cell_type": "code",
      "metadata": {
        "id": "TFdsnZ-f8eWz"
      },
      "source": [
        "def preprocess(text):\n",
        "  text = re.sub(r'https?:\\/\\/.*[\\r\\n]*', '', str(text))#REMOVE WEBPAGE\n",
        "  text = re.sub(r'^RT[\\s]+', '', str(text))#REMOVE  RETWEETS\n",
        "  text = re.sub(r'#', '', str(text)) #REMOVE HASHTAG\n",
        "  text = re.sub('@[^\\s]+','',str(text)) #REMOVE HANDLES\n",
        "  text = re.sub(r'[0-9A-Za-z./,?!$&*\\'\\\"\\\\\\n\\t\\-]+','',str(text)) #REMOVE ENGLISH\n",
        "  text = text.replace(str(chr(8230)),' ')\n",
        "  text = text.replace(str(chr(8217)),\" \")\n",
        "  text = text.replace(str(chr(8216)),\" \")\n",
        "  text = re.sub(r'[\\U0001F600-\\U0001F64F\\U0001F300-\\U0001F5FF\\U0001F680-\\U0001F6FF\\U0001F1E0-\\U0001F1FF]+','',str(text))#REMOVE EMOJIS\n",
        "  text = re.sub(r'\\s+',' ',str(text))\n",
        "  text = text.rstrip()\n",
        "  text = text.lstrip()\n",
        "  return text"
      ],
      "execution_count": null,
      "outputs": []
    },
    {
      "cell_type": "code",
      "metadata": {
        "id": "6voMQ1218gGT"
      },
      "source": [
        "data['tweet']=data['tweet'].apply(preprocess)"
      ],
      "execution_count": null,
      "outputs": []
    },
    {
      "cell_type": "code",
      "metadata": {
        "id": "Cndqfhp_9Lr-"
      },
      "source": [
        "data.to_csv(\"processed_telugu.csv\", index=False)"
      ],
      "execution_count": null,
      "outputs": []
    },
    {
      "cell_type": "code",
      "metadata": {
        "colab": {
          "base_uri": "https://localhost:8080/",
          "height": 35
        },
        "id": "tT4MbTPQ9RLa",
        "outputId": "47ae6246-ba01-48d3-93d0-0ee18312dcf2"
      },
      "source": [
        "shutil.copy(\n",
        "    \"processed_telugu.csv\",\n",
        "    \"/content/drive/MyDrive/SentiMent_Analysis/processed_telugu.csv\"\n",
        ")"
      ],
      "execution_count": null,
      "outputs": [
        {
          "output_type": "execute_result",
          "data": {
            "application/vnd.google.colaboratory.intrinsic+json": {
              "type": "string"
            },
            "text/plain": [
              "'/content/drive/MyDrive/SentiMent_Analysis/processed_telugu.csv'"
            ]
          },
          "metadata": {
            "tags": []
          },
          "execution_count": 46
        }
      ]
    },
    {
      "cell_type": "code",
      "metadata": {
        "id": "sOfDPZvZ-hqE"
      },
      "source": [
        ""
      ],
      "execution_count": null,
      "outputs": []
    }
  ]
}